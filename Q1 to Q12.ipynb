{
 "cells": [
  {
   "cell_type": "code",
   "execution_count": 14,
   "id": "6f754f72-d16c-4ce2-82a9-5d0439f9c3b8",
   "metadata": {},
   "outputs": [
    {
     "name": "stdout",
     "output_type": "stream",
     "text": [
      "5.0\n"
     ]
    }
   ],
   "source": [
    "#Exception method:\n",
    "\n",
    "try:\n",
    "    numerator = 10\n",
    "    denominator = 2\n",
    "    result = numerator / denominator\n",
    "    print(result)\n",
    "except:\n",
    "    print(\"error:denominator cannot be zero\")"
   ]
  },
  {
   "cell_type": "code",
   "execution_count": null,
   "id": "cabe4b57-6cb7-4343-aa83-6af5e59a352c",
   "metadata": {},
   "outputs": [
    {
     "name": "stdout",
     "output_type": "stream",
     "text": [
      "Enter Your number 4\n"
     ]
    },
    {
     "name": "stdout",
     "output_type": "stream",
     "text": [
      "0.25\n",
      "done\n"
     ]
    }
   ],
   "source": [
    "#Excception method with else condition:\n",
    "a = True\n",
    "while a == True:\n",
    "    even_numbers =(input(\"Enter Your number\"))\n",
    "    if even_numbers.isnumeric() == True:\n",
    "        even_numbers = int(even_numbers)\n",
    "        i = even_numbers\n",
    "\n",
    "        try:\n",
    "            assert  i% 2 ==0\n",
    "        except:\n",
    "            print (\"not even number\")\n",
    "\n",
    "        else:\n",
    "            reciprocal = 1/i\n",
    "            print(reciprocal)\n",
    "        finally:\n",
    "                print(\"done\")\n",
    "                a = False\n",
    "\n",
    "    else:\n",
    "        print(\"Invalid input\")\n",
    "        a = False\n",
    "           \n",
    "    "
   ]
  },
  {
   "cell_type": "code",
   "execution_count": null,
   "id": "7f0c9063-79d0-477c-8d45-be169d3c4755",
   "metadata": {},
   "outputs": [
    {
     "name": "stdout",
     "output_type": "stream",
     "text": [
      "Enter inpur: A\n"
     ]
    },
    {
     "name": "stdout",
     "output_type": "stream",
     "text": [
      "A it is a upper\n"
     ]
    }
   ],
   "source": [
    "#write a program who define and knows all variables input interfaces:\n",
    "\n",
    "a = input(\"Enter inpur:\")\n",
    "if a[0].isnumeric():\n",
    "    print(f\"{a} it is a numeric\")\n",
    "elif a[0].islower():\n",
    "    print(f\"{a} it is a lower\")\n",
    "elif a[0].isupper():\n",
    "    print(f\"{a} it is a upper\")\n",
    "elif a[0] in [\"+\",\"-\",\"*\",\"/\"]:\n",
    "    print(f\"{a} it is arithmatic\")\n",
    "else:\n",
    "    print(f\"{a} it is a speical character\")\n",
    "\n",
    "\n"
   ]
  },
  {
   "cell_type": "code",
   "execution_count": 3,
   "id": "b7b24759-5a65-4543-ac5f-b06198813d33",
   "metadata": {},
   "outputs": [
    {
     "name": "stdout",
     "output_type": "stream",
     "text": [
      "2030,2065,2100,2135,2170,2205,2240,2275,2310,2345,2380,2415,2450,2485,2520,2555,2590,2625,2660,2695,2730,2765,2800,2835,2870,2905,2940,2975,3010,3045,3080,3115,3150,3185\n"
     ]
    }
   ],
   "source": [
    "# Question no 1\n",
    "\"\"\"\n",
    "Question:\n",
    "Write a program which will find all such numbers which are divisible by 7 but are not a multiple\n",
    "of 5,\n",
    "between 2000 and 3200 (both included).\n",
    "The numbers obtained should be printed in a comma-separated sequence on a single line.\n",
    "Hints:\n",
    "Consider use range(#begin, #end) method\n",
    "\n",
    "\"\"\"\n",
    "numbers=[]\n",
    "for i in range(2000,3200):\n",
    "    if i%7==0 and not i%5 !=0:\n",
    "        numbers.append(str(i))\n",
    "\n",
    "print(\",\".join(numbers))"
   ]
  },
  {
   "cell_type": "code",
   "execution_count": 5,
   "id": "01d6b3a6-0da0-41a1-83dd-492dff5e874d",
   "metadata": {},
   "outputs": [
    {
     "name": "stdin",
     "output_type": "stream",
     "text": [
      "Enter a number:  8\n"
     ]
    },
    {
     "name": "stdout",
     "output_type": "stream",
     "text": [
      "40320\n"
     ]
    }
   ],
   "source": [
    "#question no 2:\n",
    "\"\"\"\n",
    "Question:\n",
    "Write a program which can compute the factorial of a given numbers.\n",
    "The results should be printed in a comma-separated sequence on a single line.\n",
    "Suppose the following input is supplied to the program:\n",
    "8\n",
    "Then, the output should be:\n",
    "40320\n",
    "Hints:\n",
    "In case of input data being supplied to the question, it should be assumed to be a console input.\n",
    "\"\"\"\n",
    "def factorial(n):\n",
    "    if n==0:\n",
    "        return 1\n",
    "    else:\n",
    "        return n* factorial(n-1)\n",
    "\n",
    "input_number = int(input(\"Enter a number: \"))\n",
    "result = factorial(input_number)\n",
    "print(result)"
   ]
  },
  {
   "cell_type": "code",
   "execution_count": 4,
   "id": "ed0ae9d4-6f32-403d-945b-e95370ebafbe",
   "metadata": {},
   "outputs": [
    {
     "name": "stdout",
     "output_type": "stream",
     "text": [
      "{1: 1, 2: 4, 3: 9, 4: 16, 5: 25}\n"
     ]
    }
   ],
   "source": [
    "#question no 3:\n",
    "\"\"\"\n",
    "Question:\n",
    "With a given integral number n, write a program to generate a dictionary that contains (i, i*i)\n",
    "such that is an integral number between 1 and n (both included). and then the program should\n",
    "print the dictionary.\n",
    "Suppose the following input is supplied to the program:\n",
    "8\n",
    "Then, the output should be:\n",
    "{1: 1, 2: 4, 3: 9, 4: 16, 5: 25, 6: 36, 7: 49, 8: 64}\n",
    "Hints:\n",
    "In case of input data being supplied to the question, it should be assumed to be a console input.\n",
    "Consider use dict()\n",
    "\"\"\"\n",
    "\n",
    "n = int(input(\"enter a number: \"))\n",
    "\n",
    "#making dictionery\n",
    "dict = {i:i*i for i in range(1,n+1)}\n",
    "print(dict)"
   ]
  },
  {
   "cell_type": "code",
   "execution_count": 2,
   "id": "157a195e-7ba3-4e3d-b724-427efa939de3",
   "metadata": {},
   "outputs": [
    {
     "name": "stdout",
     "output_type": "stream",
     "text": [
      "['21', '56', '32', '21', '12']\n",
      "('21', '56', '32', '21', '12')\n"
     ]
    }
   ],
   "source": [
    "#question no 4:\n",
    "\"\"\"\n",
    "Level 1\n",
    "Question:\n",
    "Write a program which accepts a sequence of comma-separated numbers from console and\n",
    "generate a list and a tuple which contains every number.\n",
    "Suppose the following input is supplied to the program:\n",
    "34,67,55,33,12,98\n",
    "Then, the output should be:\n",
    "['34', '67', '55', '33', '12', '98']\n",
    "('34', '67', '55', '33', '12', '98')\n",
    "Hints:\n",
    "In case of input data being supplied to the question, it should be assumed to be a console input.\n",
    "tuple() method can convert list to tuple\n",
    "\n",
    "\"\"\"\n",
    "\n",
    "input_data = input(\"Enter a sequence of a comma seperated number: \")\n",
    "\n",
    "number_list = input_data.split(\",\")\n",
    "number_tuple=tuple(number_list)\n",
    "print(number_list)\n",
    "print(number_tuple)"
   ]
  },
  {
   "cell_type": "code",
   "execution_count": 7,
   "id": "448191bc-05a0-4360-b96d-2c1334a6e87b",
   "metadata": {},
   "outputs": [
    {
     "name": "stdin",
     "output_type": "stream",
     "text": [
      "enter a string: cjksncjn\n"
     ]
    },
    {
     "name": "stdout",
     "output_type": "stream",
     "text": [
      "CJKSNCJN\n"
     ]
    }
   ],
   "source": [
    "#question 5\n",
    "\"\"\"\n",
    "Question:\n",
    "Define a class which has at least two methods:\n",
    "getString: to get a string from console input\n",
    "printString: to print the string in upper case.\n",
    "Also please include simple test function to test the class methods.\n",
    "Hints:\n",
    "Use __init__ method to construct some parameter\n",
    "\"\"\"\n",
    "class stringmanipulator:\n",
    "    def __init__(self):\n",
    "        self.string = \"\"\n",
    "    def getstring(self):\n",
    "        self.string=input(\"enter a string:\")\n",
    "    def printstring(self):\n",
    "        print(self.string.upper())\n",
    "\n",
    "sm = stringmanipulator()\n",
    "sm.getstring()\n",
    "sm.printstring()"
   ]
  },
  {
   "cell_type": "code",
   "execution_count": 11,
   "id": "deb32386",
   "metadata": {},
   "outputs": [
    {
     "name": "stdout",
     "output_type": "stream",
     "text": [
      "18\n"
     ]
    }
   ],
   "source": [
    "#question 6\n",
    "\"\"\"\n",
    "Question:\n",
    "Write a program that calculates and prints the value according to the given formula:\n",
    "Q = Square root of [(2 * C * D)/H]\n",
    "Following are the fixed values of C and H:\n",
    "C is 50. H is 30.\n",
    "D is the variable whose values should be input to your program in a comma-separated\n",
    "sequence.\n",
    "Example\n",
    "Let us assume the following comma separated input sequence is given to the program:\n",
    "100,150,180\n",
    "The output of the program should be:\n",
    "18,22,24\n",
    "Hints:\n",
    "If the output received is in decimal form, it should be rounded off to its nearest value (for\n",
    "example, if the output received is 26.0, it should be printed as 26)\n",
    "In case of input data being supplied to the question, it should be assumed to be a console input.\n",
    "\"\"\"\n",
    "\n",
    "import math\n",
    "C=50\n",
    "H=30\n",
    "D=input().split(\",\")\n",
    "for i in D:\n",
    "    Q =math.sqrt((2*C*int(i)/H))\n",
    "    print(round(Q))"
   ]
  },
  {
   "cell_type": "code",
   "execution_count": 9,
   "id": "927d8fc1",
   "metadata": {},
   "outputs": [
    {
     "name": "stdin",
     "output_type": "stream",
     "text": [
      "enter two number sep by commas:  3,5\n"
     ]
    },
    {
     "name": "stdout",
     "output_type": "stream",
     "text": [
      "[[0, 0, 0, 0, 0], [0, 1, 2, 3, 4], [0, 2, 4, 6, 8]]\n"
     ]
    }
   ],
   "source": [
    "# question 7\n",
    "\"\"\"\n",
    "Write a program which takes 2 digits, X,Y as input and generates a 2-dimensional array. The\n",
    "element value in the i-th row and j-th column of the array should be i*j.\n",
    "Note: i=0,1.., X-1; j=0,1,¡Y-1.\n",
    "Example\n",
    "Suppose the following inputs are given to the program:\n",
    "3,5\n",
    "Then, the output of the program should be:\n",
    "[[0, 0, 0, 0, 0], [0, 1, 2, 3, 4], [0, 2, 4, 6, 8]]\n",
    "Hints:\n",
    "Note: In case of input data being supplied to the question, it should be assumed to be a console\n",
    "input in a comma-separated form\n",
    "\"\"\"\n",
    "x,y = map(int,input(\"enter two number sep by commas: \").split(','))\n",
    "\n",
    "result = [[i*j for j in range(y)]for i in range(x)]\n",
    "print(result)"
   ]
  },
  {
   "cell_type": "code",
   "execution_count": 5,
   "id": "beee88c4-9339-43fb-8b0f-3aa55d4febf3",
   "metadata": {},
   "outputs": [
    {
     "name": "stdout",
     "output_type": "stream",
     "text": [
      "['ali', 'hamza', 'kalki']\n"
     ]
    }
   ],
   "source": [
    "#question 8\n",
    "\"\"\"\n",
    "Write a program that accepts a comma separated sequence of words as input and prints the\n",
    "words in a comma-separated sequence after sorting them alphabetically.\n",
    "Suppose the following input is supplied to the program:\n",
    "without,hello,bag,world\n",
    "Then, the output should be:\n",
    "bag,hello,without,world\n",
    "Hints:\n",
    "In case of input data being supplied to the question, it should be assumed to be a console input\n",
    "\"\"\"\n",
    "words = input().split(',')\n",
    "words.sort()\n",
    "print(words)"
   ]
  },
  {
   "cell_type": "code",
   "execution_count": 13,
   "id": "626eb761",
   "metadata": {},
   "outputs": [],
   "source": [
    "#question 9\n",
    "\"\"\"\n",
    "Write a program that accepts sequence of lines as input and prints the lines after making all\n",
    "characters in the sentence capitalized.\n",
    "Suppose the following input is supplied to the program:\n",
    "Hello world\n",
    "Practice makes perfect\n",
    "Then, the output should be:\n",
    "HELLO WORLD\n",
    "PRACTICE MAKES PERFECT\n",
    "Hints:\n",
    "In case of input data being supplied to the question, it should be assumed to be a console input.\n",
    "\"\"\"\n",
    "\n",
    "lines = []\n",
    "\n",
    "while True:\n",
    "    line = input()\n",
    "    if line:\n",
    "        lines.append(line.upper())\n",
    "    else:z\n",
    "        break\n",
    "for line in lines:\n",
    "    print(line)"
   ]
  },
  {
   "cell_type": "code",
   "execution_count": 15,
   "id": "8fdd4481",
   "metadata": {},
   "outputs": [
    {
     "name": "stdin",
     "output_type": "stream",
     "text": [
      "  ali  gfdfdg hamza alia\n"
     ]
    },
    {
     "name": "stdout",
     "output_type": "stream",
     "text": [
      "ali alia gfdfdg hamza\n"
     ]
    }
   ],
   "source": [
    "#question 10:\n",
    "#Accept a sequence of white_space-seprated word \n",
    "\"\"\"\n",
    "Write a program that accepts a sequence of whitespace separated words as input and prints the\n",
    "words after removing all duplicate words and sorting them alphanumerically.\n",
    "Suppose the following input is supplied to the program:\n",
    "hello world and practice makes perfect and hello world again\n",
    "Then, the output should be:\n",
    "again and hello makes perfect practice world\n",
    "Hints:\n",
    "In case of input data being supplied to the question, it should be assumed to be a console input.\n",
    "We use set container to remove duplicated data automatically and then use sorted() to sort the\n",
    "data.\n",
    "\n",
    "\"\"\"\n",
    "A = input()\n",
    "B=A.split()\n",
    "C = set(B)\n",
    "D = sorted(C)\n",
    "E = \" \".join(D)\n",
    "print(E)"
   ]
  },
  {
   "cell_type": "code",
   "execution_count": 23,
   "id": "d55c3a63",
   "metadata": {},
   "outputs": [
    {
     "name": "stdin",
     "output_type": "stream",
     "text": [
      " ali  gfdfdg hamza alia\n"
     ]
    },
    {
     "name": "stdout",
     "output_type": "stream",
     "text": [
      "ali alia gfdfdg hamza\n"
     ]
    }
   ],
   "source": [
    "#question no 10:\n",
    "\"\"\"\n",
    "Write a program that accepts a sequence of whitespace separated words as input and prints the\n",
    "words after removing all duplicate words and sorting them alphanumerically.\n",
    "Suppose the following input is supplied to the program:\n",
    "hello world and practice makes perfect and hello world again\n",
    "Then, the output should be:\n",
    "again and hello makes perfect practice world\n",
    "Hints:\n",
    "In case of input data being supplied to the question, it should be assumed to be a console input.\n",
    "We use set container to remove duplicated data automatically and then use sorted() to sort the\n",
    "data.\n",
    "\n",
    "\"\"\"\n",
    "words = input().split()\n",
    "unique_words = list(set(words))\n",
    "unique_words.sort()\n",
    "print(' '.join(unique_words))\n"
   ]
  },
  {
   "cell_type": "code",
   "execution_count": 31,
   "id": "20209cf8-2f47-4b06-95c7-7156efaea829",
   "metadata": {},
   "outputs": [
    {
     "name": "stdin",
     "output_type": "stream",
     "text": [
      "  0100,0011,1010,1001\n"
     ]
    },
    {
     "name": "stdout",
     "output_type": "stream",
     "text": [
      "1010\n"
     ]
    }
   ],
   "source": [
    "#question no 11:\n",
    "\"\"\"\n",
    "Write a program which accepts a sequence of comma separated 4 digit binary numbers as its\n",
    "input and then check whether they are divisible by 5 or not. The numbers that are divisible by 5\n",
    "are to be printed in a comma separated sequence.\n",
    "Example:\n",
    "0100,0011,1010,1001\n",
    "Then the output should be:\n",
    "1010\n",
    "Notes: Assume the data is input by console.\n",
    "Hints:\n",
    "In case of input data being supplied to the question, it should be assumed to be a console input.\n",
    "\n",
    "\"\"\"\n",
    "input_sequence = input().split(\",\")\n",
    "list= []\n",
    "for i in input_sequence:\n",
    "    decimal_number = int(i,2)\n",
    "    if decimal_number % 5 ==0:\n",
    "        list.append(i)\n",
    "\n",
    "print(\",\".join(list))\n"
   ]
  },
  {
   "cell_type": "code",
   "execution_count": 33,
   "id": "a7f53ed6-6f2e-4328-bd0e-4a86b6eddaf6",
   "metadata": {},
   "outputs": [
    {
     "name": "stdin",
     "output_type": "stream",
     "text": [
      " 0100,0011,1010,1001\n"
     ]
    },
    {
     "name": "stdout",
     "output_type": "stream",
     "text": [
      "1010\n"
     ]
    }
   ],
   "source": [
    "#question 11:\n",
    "\"\"\"\n",
    "Write a program which accepts a sequence of comma separated 4 digit binary numbers as its\n",
    "input and then check whether they are divisible by 5 or not. The numbers that are divisible by 5\n",
    "are to be printed in a comma separated sequence.\n",
    "Example:\n",
    "0100,0011,1010,1001\n",
    "Then the output should be:\n",
    "1010\n",
    "Notes: Assume the data is input by console.\n",
    "Hints:\n",
    "In case of input data being supplied to the question, it should be assumed to be a console input.\n",
    "\n",
    "\"\"\"\n",
    "data = input()\n",
    "binary_numbers = data.split(\",\")\n",
    "result = []\n",
    "\n",
    "for num in binary_numbers:\n",
    "    decimal_numbers = int(num,2)\n",
    "    if decimal_numbers%5==0:\n",
    "        result.append(num)\n",
    "\n",
    "print(','.join(result))\n",
    "\n",
    "        "
   ]
  },
  {
   "cell_type": "code",
   "execution_count": 11,
   "id": "73b1b393-739c-4623-8b12-ad2cea9222ca",
   "metadata": {},
   "outputs": [
    {
     "name": "stdout",
     "output_type": "stream",
     "text": [
      "2000,2002,2004,2006,2008,2020,2022,2024,2026,2028,2040,2042,2044,2046,2048,2060,2062,2064,2066,2068,2080,2082,2084,2086,2088,2200,2202,2204,2206,2208,2220,2222,2224,2226,2228,2240,2242,2244,2246,2248,2260,2262,2264,2266,2268,2280,2282,2284,2286,2288,2400,2402,2404,2406,2408,2420,2422,2424,2426,2428,2440,2442,2444,2446,2448,2460,2462,2464,2466,2468,2480,2482,2484,2486,2488,2600,2602,2604,2606,2608,2620,2622,2624,2626,2628,2640,2642,2644,2646,2648,2660,2662,2664,2666,2668,2680,2682,2684,2686,2688,2800,2802,2804,2806,2808,2820,2822,2824,2826,2828,2840,2842,2844,2846,2848,2860,2862,2864,2866,2868,2880,2882,2884,2886,2888\n"
     ]
    }
   ],
   "source": [
    "#question 12:\n",
    "\"\"\"\n",
    "Write a program, which will find all such numbers between 1000 and 3000 (both included) such\n",
    "that each digit of the number is an even number.\n",
    "The numbers obtained should be printed in a comma-separated sequence on a single line.\n",
    "Hints:\n",
    "In case of input data being supplied to the question, it should be assumed to be a console input.\n",
    "\"\"\"\n",
    "\n",
    "even_numbers = []\n",
    "\n",
    "for numbers in range(1000,3001):\n",
    "    numbers_str = str(numbers)\n",
    "    if (int(numbers_str[0]) %  2 == 0 and\n",
    "        int(numbers_str[1])  %  2 == 0 and\n",
    "        int(numbers_str[2])  %  2 == 0 and\n",
    "        int(numbers_str[3])  %  2 == 0):\n",
    "        even_numbers.append(numbers_str)\n",
    "\n",
    "print(','.join(even_numbers))\n",
    "    "
   ]
  },
  {
   "cell_type": "code",
   "execution_count": null,
   "id": "44b0dfb6-4e99-4df7-b487-a6441dcc55f1",
   "metadata": {},
   "outputs": [],
   "source": [
    "#question 13:\n",
    "\"\"\"\n",
    "Write a program that accepts a sentence and calculate the number of letters and digits.\n",
    "Suppose the following input is supplied to the program:\n",
    "hello world! 123\n",
    "Then, the output should be:\n",
    "LETTERS 10\n",
    "DIGITS 3\n",
    "Hints:\n",
    "In case of input data being supplied to the question, it should be assumed to be a console input.\n",
    "\"\"\"\n",
    "def count_letters_and_digits(sentence):\n",
    "  \"\"\"Counts the number of letters and digits in a given sentence.\n",
    "\n",
    "  Args:\n",
    "    sentence: The input sentence.\n",
    "\n",
    "  Returns:\n",
    "    A tuple containing the count of letters and digits.\n",
    "  \"\"\"\n",
    "\n",
    "  letters = 0\n",
    "  digits = 0\n",
    "\n",
    "  for char in sentence:\n",
    "    if char.isalpha():\n",
    "      letters += 1\n",
    "    elif char.isdigit():\n",
    "      digits += 1\n",
    "\n",
    "  return letters, digits\n",
    "\n",
    "if __name__ == \"__main__\":\n",
    "  sentence = input(\"Enter a sentence: \")\n",
    "  letters, digits = count_letters_and_digits(sentence)\n",
    "  print(\"LETTERS\", letters)\n",
    "  print(\"DIGITS\", digits)"
   ]
  },
  {
   "cell_type": "code",
   "execution_count": null,
   "id": "4aeaee56-46ad-4bda-81a0-0f7bcfc09468",
   "metadata": {},
   "outputs": [],
   "source": []
  }
 ],
 "metadata": {
  "kernelspec": {
   "display_name": "Python 3 (ipykernel)",
   "language": "python",
   "name": "python3"
  },
  "language_info": {
   "codemirror_mode": {
    "name": "ipython",
    "version": 3
   },
   "file_extension": ".py",
   "mimetype": "text/x-python",
   "name": "python",
   "nbconvert_exporter": "python",
   "pygments_lexer": "ipython3",
   "version": "3.12.4"
  }
 },
 "nbformat": 4,
 "nbformat_minor": 5
}
